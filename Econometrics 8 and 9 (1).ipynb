{
 "cells": [
  {
   "cell_type": "markdown",
   "metadata": {},
   "source": [
    "# Question 8"
   ]
  },
  {
   "cell_type": "code",
   "execution_count": 1,
   "metadata": {},
   "outputs": [
    {
     "name": "stderr",
     "output_type": "stream",
     "text": [
      "C:\\Users\\Samuel\\Anaconda3\\Anaconda\\lib\\site-packages\\statsmodels\\compat\\pandas.py:56: FutureWarning: The pandas.core.datetools module is deprecated and will be removed in a future version. Please use the pandas.tseries module instead.\n",
      "  from pandas.core import datetools\n"
     ]
    }
   ],
   "source": [
    "import numpy as np\n",
    "import scipy as sp\n",
    "\n",
    "from matplotlib import pyplot\n",
    "\n",
    "import statsmodels.api as sm"
   ]
  },
  {
   "cell_type": "code",
   "execution_count": 2,
   "metadata": {
    "collapsed": true
   },
   "outputs": [],
   "source": [
    "N=20000\n",
    "a = sp.random.standard_normal(N)\n",
    "b = np.random.uniform(-np.sqrt(3),np.sqrt(3),N)\n",
    "c = np.random.choice([-1,1],N,0.5)"
   ]
  },
  {
   "cell_type": "code",
   "execution_count": 3,
   "metadata": {},
   "outputs": [
    {
     "name": "stdout",
     "output_type": "stream",
     "text": [
      "0.000177124587099 0.00432312794864 -0.0055 1.00573753234 1.00209754628 0.99996975\n"
     ]
    }
   ],
   "source": [
    "print(a.mean(),b.mean(),c.mean(),a.std()**2,b.std()**2,c.std()**2)"
   ]
  },
  {
   "cell_type": "code",
   "execution_count": 67,
   "metadata": {},
   "outputs": [],
   "source": [
    "Xm,Xm2,Xm3,Ya,Yb,Yc = [],[],[],[],[],[]\n",
    "XYa,XYb,XYc = [],[],[]\n",
    "b0,b1=1,2\n",
    "for m in range(N):\n",
    "    Xm.append(np.random.choice(a)), Xm2.append(np.random.choice(b)),Xm3.append(np.random.choice(c))\n",
    "    Ya.append(b0+b1*Xm[m]+a[m]),Yb.append(b0+b1*Xm[m]+b[m]),Yc.append(b0+b1*Xm[m]+c[m])\n",
    "    XYa.append([Xm[m],Ya[m]]),XYb.append([Xm[m],Yb[m]]),XYc.append([Xm[m],Yc[m]])\n",
    "#print(len(Ya))\n",
    "\n",
    "#Simulate three different bivariate models\n",
    "model1 = sm.OLS(Ya,Xm).fit()\n",
    "model1.summary()\n",
    "model2 = sm.OLS(Yb,Xm).fit()\n",
    "model3 = sm.OLS(Yc,Xm).fit()"
   ]
  },
  {
   "cell_type": "code",
   "execution_count": 87,
   "metadata": {},
   "outputs": [
    {
     "name": "stdout",
     "output_type": "stream",
     "text": [
      "2000\n"
     ]
    }
   ],
   "source": [
    " #Question (8a)\n",
    "M,S=2000,100\n",
    "Sa,Sb,Sc=[],[],[]\n",
    "for s in range(S):\n",
    "    Sa.append([XYa[i] for i in np.random.choice(len(XYa),M)])\n",
    "    Sb.append([XYb[i] for i in np.random.choice(len(XYb),M)])\n",
    "    Sc.append([XYc[i] for i in np.random.choice(len(XYc),M)])\n",
    "print(len(Sa[99]))"
   ]
  },
  {
   "cell_type": "code",
   "execution_count": 88,
   "metadata": {},
   "outputs": [
    {
     "name": "stdout",
     "output_type": "stream",
     "text": [
      "100 100 100\n"
     ]
    }
   ],
   "source": [
    "import statistics as sp\n",
    "xbar,ybar,xbara,ybara=[],[],[],[]\n",
    "xbar1,ybar1,xbarb,ybarb=[],[],[],[]\n",
    "xbar2,ybar2,xbarc,ybarc=[],[],[],[]\n",
    "\n",
    "for s in range(S):\n",
    "    xbar.append([Sa[s][i][0] for i in range(M)])\n",
    "    ybar.append([Sa[s][i][1] for i in range(M)])\n",
    "    \n",
    "    xbar1.append([Sb[s][i][0] for i in range(M)])\n",
    "    ybar1.append([Sb[s][i][1] for i in range(M)])\n",
    "    \n",
    "    xbar2.append([Sc[s][i][0] for i in range(M)])\n",
    "    ybar2.append([Sc[s][i][1] for i in range(M)])\n",
    "\n",
    "\n",
    "    xbara.append(sp.mean(xbar[s]))\n",
    "    ybara.append(sp.mean(ybar[s]))\n",
    "    \n",
    "    xbarb.append(sp.mean(xbar1[s]))\n",
    "    ybarb.append(sp.mean(ybar1[s]))\n",
    "    \n",
    "    xbarc.append(sp.mean(xbar2[s]))\n",
    "    ybarc.append(sp.mean(ybar2[s]))\n",
    "    \n",
    "print(len(xbara),len(xbarb),len(xbarc))"
   ]
  },
  {
   "cell_type": "code",
   "execution_count": 89,
   "metadata": {},
   "outputs": [
    {
     "name": "stdout",
     "output_type": "stream",
     "text": [
      "100 100 100\n"
     ]
    }
   ],
   "source": [
    "beta1a,beta1b,beta1c=[],[],[]\n",
    "for s in range(S):\n",
    "    numa=np.sum([(Sa[s][i][0]-xbara[s])*(Sa[s][i][1]-ybara[s]) for i in range(M)])\n",
    "    denoma=np.sum([(Sa[s][i][0]-xbara[s])**2 for i in range(M)])\n",
    "    beta1a.append(numa/denoma)\n",
    "    \n",
    "    numb=np.sum([(Sb[s][i][0]-xbarb[s])*(Sb[s][i][1]-ybarb[s]) for i in range(M)])\n",
    "    denomb=np.sum([(Sb[s][i][0]-xbarb[s])**2 for i in range(M)])\n",
    "    beta1b.append(numb/denomb)\n",
    "    \n",
    "    numc=np.sum([(Sc[s][i][0]-xbarc[s])*(Sc[s][i][1]-ybarc[s]) for i in range(M)])\n",
    "    denomc=np.sum([(Sc[s][i][0]-xbarc[s])**2 for i in range(M)])\n",
    "    beta1c.append(numc/denomc)\n",
    "print(len(beta1a),len(beta1b),len(beta1c))"
   ]
  },
  {
   "cell_type": "code",
   "execution_count": 90,
   "metadata": {},
   "outputs": [
    {
     "name": "stdout",
     "output_type": "stream",
     "text": [
      "100 100 100\n"
     ]
    }
   ],
   "source": [
    "beta= np.array([beta1a,beta1b,beta1c])\n",
    "tda,tdb,tdc=[],[],[]\n",
    "\n",
    "for s in range(S):\n",
    "    num = np.sqrt(M)*(beta[0][s]-b1)\n",
    "    v = np.sum([(Sa[s][i][1]-ybara[s]-beta[0][s]*(Sa[s][i][0]-xbara[s]))**2 for i in range(M)])\n",
    "    w = np.sum([(Sa[s][i][0]-xbara[s])**2 for i in range(M)])\n",
    "    denum=np.sqrt(v/w)\n",
    "    tda.append(num/denum)\n",
    "    \n",
    "    tnumb = np.sqrt(M)*(beta[1][s]-b1)\n",
    "    vb = np.sum([(Sb[s][i][1]-ybarb[s]-beta[1][s]*(Sb[s][i][0]-xbarb[s]))**2 for i in range(M)])\n",
    "    wb = np.sum([(Sb[s][i][0]-xbarb[s])**2 for i in range(M)])\n",
    "    tdenumb=np.sqrt(vb/wb)\n",
    "    tdb.append(tnumb/tdenumb)\n",
    "\n",
    "    tnumc = np.sqrt(M)*(beta[2][s]-b1)\n",
    "    vc = np.sum([(Sc[s][i][1]-ybarc[s]-beta[2][s]*(Sc[s][i][0]-xbarc[s]))**2 for i in range(M)])\n",
    "    wc = np.sum([(Sc[s][i][0]-xbarc[s])**2 for i in range(M)])\n",
    "    tdenumc=np.sqrt(vc/wc)\n",
    "    tdc.append(tnumc/tdenumc)\n",
    "    \n",
    "print(len(tda),len(tdb),len(tdc)) "
   ]
  },
  {
   "cell_type": "code",
   "execution_count": 91,
   "metadata": {},
   "outputs": [
    {
     "data": {
      "image/png": "[encoded data removed]",
      "text/plain": [
       "<matplotlib.figure.Figure at 0x1b7e3beaac8>"
      ]
     },
     "metadata": {},
     "output_type": "display_data"
    },
    {
     "data": {
      "image/png": "[encoded data removed]",
      "text/plain": [
       "<matplotlib.figure.Figure at 0x1b7e552a4e0>"
      ]
     },
     "metadata": {},
     "output_type": "display_data"
    },
    {
     "data": {
      "image/png": "[encoded data removed]",
      "text/plain": [
       "<matplotlib.figure.Figure at 0x1b7e5302c88>"
      ]
     },
     "metadata": {},
     "output_type": "display_data"
    }
   ],
   "source": [
    "#Histogram plot\n",
    "bins = np.linspace(-2, 2, 100)\n",
    "\n",
    "pyplot.hist(beta1a, bins, alpha=0.5, label='Std normal OLS coefficient')\n",
    "pyplot.hist(tda,bins, alpha=0.5, label='Std normal t-statistics.')\n",
    "pyplot.legend(loc='upper right')\n",
    "pyplot.show()\n",
    "\n",
    "pyplot.hist(beta1b, bins, alpha=0.5, label='Uniform dist. OLS coefficient')\n",
    "pyplot.hist(tdb,bins, alpha=0.5, label='Uniform dist. t-statistics')\n",
    "pyplot.legend(loc='upper right')\n",
    "pyplot.show()\n",
    "\n",
    "pyplot.hist(beta1c, bins, alpha=0.5, label='Rademacher OLS coefficient')\n",
    "pyplot.hist(tdc,bins, alpha=0.5, label='Rademacher t-statistics')\n",
    "pyplot.legend(loc='upper right')\n",
    "pyplot.show()"
   ]
  },
  {
   "cell_type": "code",
   "execution_count": null,
   "metadata": {
    "collapsed": true
   },
   "outputs": [],
   "source": []
  },
  {
   "cell_type": "code",
   "execution_count": null,
   "metadata": {
    "collapsed": true
   },
   "outputs": [],
   "source": []
  },
  {
   "cell_type": "markdown",
   "metadata": {
    "collapsed": true
   },
   "source": [
    "# Question 9"
   ]
  },
  {
   "cell_type": "code",
   "execution_count": 65,
   "metadata": {},
   "outputs": [
    {
     "name": "stdout",
     "output_type": "stream",
     "text": [
      "10000 10000\n"
     ]
    }
   ],
   "source": [
    "N,pi0,pi1,delta0,delta1=10000,1,2,1,2\n",
    "Xi=np.random.choice([1,2,3,4,5],10000)\n",
    "vi,ei=a,a   #vi and ei are standard normal distribution\n",
    "Si,Yi=[],[]\n",
    "for i in range(N):\n",
    "    si=pi0+pi1*Xi[i]+vi[i]\n",
    "    Si.append(si)\n",
    "    yi=delta0+delta1*Si[i]+np.log(Xi[i])+ei[i]    #we choose the logarithmic function as the non-linear function of choice.\n",
    "    Yi.append(yi)\n",
    "print(len(Si),len(Yi))"
   ]
  },
  {
   "cell_type": "code",
   "execution_count": 66,
   "metadata": {},
   "outputs": [
    {
     "data": {
      "text/html": [
       "<table class=\"simpletable\">\n",
       "<caption>OLS Regression Results</caption>\n",
       "<tr>\n",
       "  <th>Dep. Variable:</th>            <td>y</td>        <th>  R-squared:         </th> <td>   0.998</td> \n",
       "</tr>\n",
       "<tr>\n",
       "  <th>Model:</th>                   <td>OLS</td>       <th>  Adj. R-squared:    </th> <td>   0.998</td> \n",
       "</tr>\n",
       "<tr>\n",
       "  <th>Method:</th>             <td>Least Squares</td>  <th>  F-statistic:       </th> <td>5.048e+06</td>\n",
       "</tr>\n",
       "<tr>\n",
       "  <th>Date:</th>             <td>Mon, 09 Apr 2018</td> <th>  Prob (F-statistic):</th>  <td>  0.00</td>  \n",
       "</tr>\n",
       "<tr>\n",
       "  <th>Time:</th>                 <td>19:32:19</td>     <th>  Log-Likelihood:    </th> <td> -11677.</td> \n",
       "</tr>\n",
       "<tr>\n",
       "  <th>No. Observations:</th>      <td> 10000</td>      <th>  AIC:               </th> <td>2.336e+04</td>\n",
       "</tr>\n",
       "<tr>\n",
       "  <th>Df Residuals:</th>          <td>  9999</td>      <th>  BIC:               </th> <td>2.336e+04</td>\n",
       "</tr>\n",
       "<tr>\n",
       "  <th>Df Model:</th>              <td>     1</td>      <th>                     </th>     <td> </td>    \n",
       "</tr>\n",
       "<tr>\n",
       "  <th>Covariance Type:</th>      <td>nonrobust</td>    <th>                     </th>     <td> </td>    \n",
       "</tr>\n",
       "</table>\n",
       "<table class=\"simpletable\">\n",
       "<tr>\n",
       "   <td></td>     <th>coef</th>     <th>std err</th>      <th>t</th>      <th>P>|t|</th>  <th>[0.025</th>    <th>0.975]</th>  \n",
       "</tr>\n",
       "<tr>\n",
       "  <th>x1</th> <td>    2.2804</td> <td>    0.001</td> <td> 2246.849</td> <td> 0.000</td> <td>    2.278</td> <td>    2.282</td>\n",
       "</tr>\n",
       "</table>\n",
       "<table class=\"simpletable\">\n",
       "<tr>\n",
       "  <th>Omnibus:</th>       <td> 0.206</td> <th>  Durbin-Watson:     </th> <td>   2.015</td>\n",
       "</tr>\n",
       "<tr>\n",
       "  <th>Prob(Omnibus):</th> <td> 0.902</td> <th>  Jarque-Bera (JB):  </th> <td>   0.178</td>\n",
       "</tr>\n",
       "<tr>\n",
       "  <th>Skew:</th>          <td>-0.004</td> <th>  Prob(JB):          </th> <td>   0.915</td>\n",
       "</tr>\n",
       "<tr>\n",
       "  <th>Kurtosis:</th>      <td> 3.019</td> <th>  Cond. No.          </th> <td>    1.00</td>\n",
       "</tr>\n",
       "</table>"
      ],
      "text/plain": [
       "<class 'statsmodels.iolib.summary.Summary'>\n",
       "\"\"\"\n",
       "                            OLS Regression Results                            \n",
       "==============================================================================\n",
       "Dep. Variable:                      y   R-squared:                       0.998\n",
       "Model:                            OLS   Adj. R-squared:                  0.998\n",
       "Method:                 Least Squares   F-statistic:                 5.048e+06\n",
       "Date:                Mon, 09 Apr 2018   Prob (F-statistic):               0.00\n",
       "Time:                        19:32:19   Log-Likelihood:                -11677.\n",
       "No. Observations:               10000   AIC:                         2.336e+04\n",
       "Df Residuals:                    9999   BIC:                         2.336e+04\n",
       "Df Model:                           1                                         \n",
       "Covariance Type:            nonrobust                                         \n",
       "==============================================================================\n",
       "                 coef    std err          t      P>|t|      [0.025      0.975]\n",
       "------------------------------------------------------------------------------\n",
       "x1             2.2804      0.001   2246.849      0.000       2.278       2.282\n",
       "==============================================================================\n",
       "Omnibus:                        0.206   Durbin-Watson:                   2.015\n",
       "Prob(Omnibus):                  0.902   Jarque-Bera (JB):                0.178\n",
       "Skew:                          -0.004   Prob(JB):                        0.915\n",
       "Kurtosis:                       3.019   Cond. No.                         1.00\n",
       "==============================================================================\n",
       "\n",
       "Warnings:\n",
       "[1] Standard Errors assume that the covariance matrix of the errors is correctly specified.\n",
       "\"\"\""
      ]
     },
     "execution_count": 66,
     "metadata": {},
     "output_type": "execute_result"
    }
   ],
   "source": [
    "#Question(9a)\n",
    "model = sm.OLS(Yi, Si).fit()\n",
    "predictions = model.predict(Si) # make the predictions by the model\n",
    "# Print out the statistics\n",
    "model.summary()"
   ]
  },
  {
   "cell_type": "code",
   "execution_count": 45,
   "metadata": {},
   "outputs": [],
   "source": [
    "#Question (9b)\n",
    "D1,D2,D3,D4,D5 = [],[],[],[],[]   #Dummy variables\n",
    "for i in range(N):\n",
    "    if Xi[i]==1:\n",
    "        D1.append(1)\n",
    "    else:\n",
    "        D1.append(0)\n",
    "    if Xi[i]==2:\n",
    "        D2.append(1)     \n",
    "    else:\n",
    "        D2.append(0)\n",
    "    if Xi[i]==3:\n",
    "        D3.append(1)     \n",
    "    else:\n",
    "        D3.append(0)\n",
    "    if Xi[i]==4:\n",
    "        D4.append(1)     \n",
    "    else:\n",
    "        D4.append(0)\n",
    "    if Xi[i]==5:\n",
    "        D5.append(1)     \n",
    "    else:\n",
    "        D5.append(0)"
   ]
  },
  {
   "cell_type": "code",
   "execution_count": 63,
   "metadata": {},
   "outputs": [],
   "source": [
    "D=np.array([D1,D2,D3,D4,D5])  #dummy variables."
   ]
  },
  {
   "cell_type": "code",
   "execution_count": null,
   "metadata": {
    "collapsed": true
   },
   "outputs": [],
   "source": [
    "#Question (9c)\n",
    "Yia,Xisquare = [],[]\n",
    "for i in range(N):\n",
    "    yia=delta0+delta1*Si[i]+Xi[i]**2+ei[i]\n",
    "    Yia.append(yia)\n",
    "    Xisquare.append(Xi[i]**2)\n",
    "model =sm.OLS(Yia,Si,Xisquare).fit()\n",
    "model.summary()"
   ]
  },
  {
   "cell_type": "code",
   "execution_count": null,
   "metadata": {
    "collapsed": true
   },
   "outputs": [],
   "source": [
    "#Question(9d)"
   ]
  }
 ],
 "metadata": {
  "kernelspec": {
   "display_name": "Python 3",
   "language": "python",
   "name": "python3"
  },
  "language_info": {
   "codemirror_mode": {
    "name": "ipython",
    "version": 3
   },
   "file_extension": ".py",
   "mimetype": "text/x-python",
   "name": "python",
   "nbconvert_exporter": "python",
   "pygments_lexer": "ipython3",
   "version": "3.6.3"
  }
 },
 "nbformat": 4,
 "nbformat_minor": 2
}
