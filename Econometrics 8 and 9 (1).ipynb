{
 "cells": [
  {
   "cell_type": "markdown",
   "metadata": {},
   "source": [
    "# Question 8"
   ]
  },
  {
   "cell_type": "code",
   "execution_count": 33,
   "metadata": {},
   "outputs": [],
   "source": [
    "import numpy as np\n",
    "import scipy as sp\n",
    "\n",
    "from matplotlib import pyplot\n",
    "\n",
    "import statsmodels.api as sm"
   ]
  },
  {
   "cell_type": "code",
   "execution_count": 34,
   "metadata": {},
   "outputs": [],
   "source": [
    "N=20000\n",
    "a = sp.random.standard_normal(N)\n",
    "b = np.random.uniform(-np.sqrt(3),np.sqrt(3),N)\n",
    "c = np.random.choice([-1,1],N,0.5)"
   ]
  },
  {
   "cell_type": "code",
   "execution_count": 35,
   "metadata": {},
   "outputs": [
    {
     "name": "stdout",
     "output_type": "stream",
     "text": [
      "-0.00726435253865 -0.00476243580651 0.0122 1.00793565124 1.00519229155 0.99985116\n"
     ]
    }
   ],
   "source": [
    "print(a.mean(),b.mean(),c.mean(),a.std()**2,b.std()**2,c.std()**2)"
   ]
  },
  {
   "cell_type": "code",
   "execution_count": 36,
   "metadata": {
    "collapsed": true
   },
   "outputs": [],
   "source": [
    "Xm,Xm2,Xm3,Ya,Yb,Yc = [],[],[],[],[],[]\n",
    "XYa,XYb,XYc = [],[],[]\n",
    "b0,b1=1,2\n",
    "for m in range(N):\n",
    "    Xm.append(np.random.choice(a)), Xm2.append(np.random.choice(b)),Xm3.append(np.random.choice(c))\n",
    "    Ya.append(b0+b1*Xm[m]+a[m]),Yb.append(b0+b1*Xm[m]+b[m]),Yc.append(b0+b1*Xm[m]+c[m])\n",
    "    XYa.append([Xm[m],Ya[m]]),XYb.append([Xm2[m],Yb[m]]),XYc.append([Xm3[m],Yc[m]])\n",
    "#print(len(Ya))\n",
    "\n",
    "#Simulate three different bivariate models\n",
    "model1 = sm.OLS(Ya,Xm).fit()\n",
    "model1.summary()\n",
    "model2 = sm.OLS(Yb,Xm).fit()\n",
    "model3 = sm.OLS(Yc,Xm).fit()"
   ]
  },
  {
   "cell_type": "code",
   "execution_count": 42,
   "metadata": {},
   "outputs": [
    {
     "name": "stdout",
     "output_type": "stream",
     "text": [
      "20000\n"
     ]
    }
   ],
   "source": [
    " #Question (8a)\n",
    "M,S=20000,100\n",
    "Sa,Sb,Sc=[],[],[]\n",
    "for s in range(S):\n",
    "    Sa.append([XYa[i] for i in np.random.choice(len(XYa),M)])\n",
    "    Sb.append([XYb[i] for i in np.random.choice(len(XYb),M)])\n",
    "    Sc.append([XYc[i] for i in np.random.choice(len(XYc),M)])\n",
    "print(len(Sa[99]))"
   ]
  },
  {
   "cell_type": "code",
   "execution_count": 43,
   "metadata": {},
   "outputs": [
    {
     "name": "stdout",
     "output_type": "stream",
     "text": [
      "100 100 100\n"
     ]
    }
   ],
   "source": [
    "import statistics as sp\n",
    "xbar,ybar,xbara,ybara=[],[],[],[]\n",
    "xbar1,ybar1,xbarb,ybarb=[],[],[],[]\n",
    "xbar2,ybar2,xbarc,ybarc=[],[],[],[]\n",
    "\n",
    "for s in range(S):\n",
    "    xbar.append([Sa[s][i][0] for i in range(M)])\n",
    "    ybar.append([Sa[s][i][1] for i in range(M)])\n",
    "    \n",
    "    xbar1.append([Sb[s][i][0] for i in range(M)])\n",
    "    ybar1.append([Sb[s][i][1] for i in range(M)])\n",
    "    \n",
    "    xbar2.append([Sc[s][i][0] for i in range(M)])\n",
    "    ybar2.append([Sc[s][i][1] for i in range(M)])\n",
    "\n",
    "\n",
    "    xbara.append(sp.mean(xbar[s]))\n",
    "    ybara.append(sp.mean(ybar[s]))\n",
    "    \n",
    "    xbarb.append(sp.mean(xbar1[s]))\n",
    "    ybarb.append(sp.mean(ybar1[s]))\n",
    "    \n",
    "    xbarc.append(sp.mean(xbar2[s]))\n",
    "    ybarc.append(sp.mean(ybar2[s]))\n",
    "    \n",
    "print(len(xbara),len(xbarb),len(xbarc))"
   ]
  },
  {
   "cell_type": "code",
   "execution_count": 44,
   "metadata": {},
   "outputs": [
    {
     "name": "stdout",
     "output_type": "stream",
     "text": [
      "100 100 100\n"
     ]
    }
   ],
   "source": [
    "beta1a,beta1b,beta1c=[],[],[]\n",
    "for s in range(S):\n",
    "    numa=np.sum([(Sa[s][i][0]-xbara[s])*(Sa[s][i][1]-ybara[s]) for i in range(M)])\n",
    "    denoma=np.sum([(Sa[s][i][0]-xbara[s])**2 for i in range(M)])\n",
    "    beta1a.append(numa/denoma)\n",
    "    \n",
    "    numb=np.sum([(Sb[s][i][0]-xbarb[s])*(Sb[s][i][1]-ybarb[s]) for i in range(M)])\n",
    "    denomb=np.sum([(Sb[s][i][0]-xbarb[s])**2 for i in range(M)])\n",
    "    beta1b.append(numb/denomb)\n",
    "    \n",
    "    numc=np.sum([(Sc[s][i][0]-xbarc[s])*(Sc[s][i][1]-ybarc[s]) for i in range(M)])\n",
    "    denomc=np.sum([(Sc[s][i][0]-xbarc[s])**2 for i in range(M)])\n",
    "    beta1c.append(numc/denomc)\n",
    "print(len(beta1a),len(beta1b),len(beta1c))"
   ]
  },
  {
   "cell_type": "code",
   "execution_count": 45,
   "metadata": {},
   "outputs": [
    {
     "name": "stdout",
     "output_type": "stream",
     "text": [
      "100 100 100\n"
     ]
    }
   ],
   "source": [
    "beta= np.array([beta1a,beta1b,beta1c])\n",
    "tda,tdb,tdc=[],[],[]\n",
    "\n",
    "for s in range(S):\n",
    "    num = np.sqrt(M)*(beta[0][s]-b1)\n",
    "    v = np.sum([(Sa[s][i][1]-ybara[s]-beta[0][s]*(Sa[s][i][0]-xbara[s]))**2 for i in range(M)])\n",
    "    w = np.sum([(Sa[s][i][0]-xbara[s])**2 for i in range(M)])\n",
    "    denum=np.sqrt(v/w)\n",
    "    tda.append(num/denum)\n",
    "    \n",
    "    tnumb = np.sqrt(M)*(beta[1][s]-b1)\n",
    "    vb = np.sum([(Sb[s][i][1]-ybarb[s]-beta[1][s]*(Sb[s][i][0]-xbarb[s]))**2 for i in range(M)])\n",
    "    wb = np.sum([(Sb[s][i][0]-xbarb[s])**2 for i in range(M)])\n",
    "    tdenumb=np.sqrt(vb/wb)\n",
    "    tdb.append(tnumb/tdenumb)\n",
    "\n",
    "    tnumc = np.sqrt(M)*(beta[2][s]-b1)\n",
    "    vc = np.sum([(Sc[s][i][1]-ybarc[s]-beta[2][s]*(Sc[s][i][0]-xbarc[s]))**2 for i in range(M)])\n",
    "    wc = np.sum([(Sc[s][i][0]-xbarc[s])**2 for i in range(M)])\n",
    "    tdenumc=np.sqrt(vc/wc)\n",
    "    tdc.append(tnumc/tdenumc)\n",
    "    \n",
    "print(len(tda),len(tdb),len(tdc)) "
   ]
  },
  {
   "cell_type": "code",
   "execution_count": 46,
   "metadata": {},
   "outputs": [
    {
     "data": {
      "image/png": "[encoded data removed]",
      "text/plain": [
       "<matplotlib.figure.Figure at 0x1bca691a128>"
      ]
     },
     "metadata": {},
     "output_type": "display_data"
    },
    {
     "data": {
      "image/png": "[encoded data removed]",
      "text/plain": [
       "<matplotlib.figure.Figure at 0x1bca7cc08d0>"
      ]
     },
     "metadata": {},
     "output_type": "display_data"
    },
    {
     "data": {
      "image/png": "[encoded data removed]",
      "text/plain": [
       "<matplotlib.figure.Figure at 0x1bca7d0c160>"
      ]
     },
     "metadata": {},
     "output_type": "display_data"
    }
   ],
   "source": [
    "#Histogram plot\n",
    "bins = np.linspace(-10, 10, 100)\n",
    "\n",
    "pyplot.hist(beta1a, bins, alpha=0.5, label='Std normal OLS coefficient')\n",
    "pyplot.hist(tda,bins, alpha=0.5, label='Std normal t-statistics.')\n",
    "pyplot.legend(loc='upper right')\n",
    "pyplot.show()\n",
    "\n",
    "pyplot.hist(beta1b, bins, alpha=0.5, label='Uniform dist. OLS coefficient')\n",
    "pyplot.hist(tdb,bins, alpha=0.5, label='Uniform dist. t-statistics')\n",
    "pyplot.legend(loc='upper right')\n",
    "pyplot.show()\n",
    "\n",
    "pyplot.hist(beta1c, bins, alpha=0.5, label='Rademacher OLS coefficient')\n",
    "pyplot.hist(tdc,bins, alpha=0.5, label='Rademacher t-statistics')\n",
    "pyplot.legend(loc='upper right')\n",
    "pyplot.show()"
   ]
  },
  {
   "cell_type": "code",
   "execution_count": null,
   "metadata": {
    "collapsed": true
   },
   "outputs": [],
   "source": []
  }
 ],
 "metadata": {
  "kernelspec": {
   "display_name": "Python 3",
   "language": "python",
   "name": "python3"
  },
  "language_info": {
   "codemirror_mode": {
    "name": "ipython",
    "version": 3
   },
   "file_extension": ".py",
   "mimetype": "text/x-python",
   "name": "python",
   "nbconvert_exporter": "python",
   "pygments_lexer": "ipython3",
   "version": "3.6.3"
  }
 },
 "nbformat": 4,
 "nbformat_minor": 2
}
